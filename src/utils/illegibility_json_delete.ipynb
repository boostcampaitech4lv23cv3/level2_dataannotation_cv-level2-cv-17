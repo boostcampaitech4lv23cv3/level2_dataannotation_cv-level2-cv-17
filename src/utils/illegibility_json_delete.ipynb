{
 "cells": [
  {
   "cell_type": "code",
   "execution_count": 1,
   "metadata": {},
   "outputs": [],
   "source": [
    "import json\n",
    "import pandas as pd\n",
    "import copy\n",
    "from collections import defaultdict\n",
    "\n",
    "json_root = '/opt/ml/input/data/upstage_IC17+IC19_Korean/ufo/train.json'\n",
    "\n",
    "with open(json_root, 'r') as f:\n",
    "    data = json.load(f)\n",
    "\n",
    "data = data['images']\n",
    "copy_data = copy.deepcopy(data)"
   ]
  },
  {
   "cell_type": "code",
   "execution_count": 3,
   "metadata": {},
   "outputs": [],
   "source": [
    "from collections import defaultdict\n",
    "\n",
    "temp = defaultdict(list)\n",
    "zero = []\n",
    "\n",
    "for img_id, img_info in list(copy_data.items()):\n",
    "    \n",
    "    words = img_info['words']\n",
    "    \n",
    "    for word_id, word_info in list(words.items()):\n",
    "        if word_info['illegibility'] == True:       # 제외영역\n",
    "            temp[img_id].append(word_id)\n",
    "            del (copy_data[img_id]['words'][word_id])\n",
    "    \n",
    "    if len(words) == 0:\n",
    "        zero.append(img_id)\n",
    "        del (copy_data[img_id])"
   ]
  },
  {
   "cell_type": "code",
   "execution_count": 4,
   "metadata": {},
   "outputs": [],
   "source": [
    "co = {'images' : copy_data}\n",
    "\n",
    "with open('/opt/ml/input/data/upstage_IC17+IC19_Korean/ufo/train(illegibility).json', 'w') as f:\n",
    "    json.dump(co, f, indent=4)"
   ]
  },
  {
   "cell_type": "code",
   "execution_count": 5,
   "metadata": {},
   "outputs": [
    {
     "name": "stdout",
     "output_type": "stream",
     "text": [
      "703\n",
      "3\n",
      "['20190525_125950.jpg', '20200113_124843.jpg', '20210915_192507.jpeg']\n"
     ]
    }
   ],
   "source": [
    "print(len(temp))\n",
    "print(len(zero))\n",
    "print(zero)"
   ]
  },
  {
   "attachments": {},
   "cell_type": "markdown",
   "metadata": {},
   "source": [
    "checking"
   ]
  },
  {
   "cell_type": "code",
   "execution_count": 6,
   "metadata": {},
   "outputs": [],
   "source": [
    "with open('/opt/ml/input/data/upstage_IC17+IC19_Korean/ufo/train(illegibility).json', 'r') as f:\n",
    "    check_data = json.load(f)"
   ]
  },
  {
   "cell_type": "code",
   "execution_count": 7,
   "metadata": {},
   "outputs": [
    {
     "data": {
      "text/plain": [
       "2035"
      ]
     },
     "execution_count": 7,
     "metadata": {},
     "output_type": "execute_result"
    }
   ],
   "source": [
    "len(check_data['images'])"
   ]
  }
 ],
 "metadata": {
  "kernelspec": {
   "display_name": "Python 3.8.5 ('base')",
   "language": "python",
   "name": "python3"
  },
  "language_info": {
   "codemirror_mode": {
    "name": "ipython",
    "version": 3
   },
   "file_extension": ".py",
   "mimetype": "text/x-python",
   "name": "python",
   "nbconvert_exporter": "python",
   "pygments_lexer": "ipython3",
   "version": "3.8.5 (default, Sep  4 2020, 07:30:14) \n[GCC 7.3.0]"
  },
  "orig_nbformat": 4,
  "vscode": {
   "interpreter": {
    "hash": "d4d1e4263499bec80672ea0156c357c1ee493ec2b1c70f0acce89fc37c4a6abe"
   }
  }
 },
 "nbformat": 4,
 "nbformat_minor": 2
}
