{
    "cells": [
        {
            "cell_type": "code",
            "execution_count": 1,
            "metadata": {},
            "outputs": [],
            "source": [
                "import json"
            ]
        },
        {
            "cell_type": "code",
            "execution_count": 14,
            "metadata": {},
            "outputs": [],
            "source": [
                "# 변수 설정\n",
                "\n",
                "json_path1 = '/opt/ml/input/data/ICDAR19_Korean/ufo/train.json'                     # json 파일 1 경로 (예시 : 수정 해주세요.)\n",
                "json_path2 = '/opt/ml/input/data/BOOSTCAMP/ufo/train.json'                          # json 파일 2 경로 (예시 : 수정 해주세요.)\n",
                "SAVE_DIR = '/opt/ml/temp_dataset/train_delete.json'                                 # 저장 경로 (예시 : 수정 해주세요.)"
            ]
        },
        {
            "cell_type": "code",
            "execution_count": 22,
            "metadata": {},
            "outputs": [],
            "source": [
                "with open(json_path1, \"r\") as json_file:\n",
                "    json1 = json.load(json_file)\n",
                "    \n",
                "with open(json_path2, \"r\") as json_file:\n",
                "    json2 = json.load(json_file)\n"
            ]
        },
        {
            "cell_type": "code",
            "execution_count": 23,
            "metadata": {},
            "outputs": [
                {
                    "name": "stdout",
                    "output_type": "stream",
                    "text": [
                        "1094\n",
                        "1115\n"
                    ]
                }
            ],
            "source": [
                "# json len check\n",
                "print(len(json1['images'].keys()))\n",
                "print(len(json2['images'].keys()))"
            ]
        },
        {
            "cell_type": "code",
            "execution_count": 17,
            "metadata": {},
            "outputs": [
                {
                    "data": {
                        "text/plain": [
                            "1385"
                        ]
                    },
                    "execution_count": 17,
                    "metadata": {},
                    "output_type": "execute_result"
                }
            ],
            "source": [
                "json1['images'].update(json2['images'])\n",
                "len(json1['images'])"
            ]
        },
        {
            "cell_type": "code",
            "execution_count": 13,
            "metadata": {},
            "outputs": [],
            "source": [
                "# 저장경로\n",
                "with open(SAVE_DIR, 'w') as f:\n",
                "        json.dump(json1, f, indent=4)"
            ]
        }
    ],
    "metadata": {
        "kernelspec": {
            "display_name": "Python 3.8.5 ('base')",
            "language": "python",
            "name": "python3"
        },
        "language_info": {
            "codemirror_mode": {
                "name": "ipython",
                "version": 3
            },
            "file_extension": ".py",
            "mimetype": "text/x-python",
            "name": "python",
            "nbconvert_exporter": "python",
            "pygments_lexer": "ipython3",
            "version": "3.8.5"
        },
        "orig_nbformat": 4,
        "vscode": {
            "interpreter": {
                "hash": "d4d1e4263499bec80672ea0156c357c1ee493ec2b1c70f0acce89fc37c4a6abe"
            }
        }
    },
    "nbformat": 4,
    "nbformat_minor": 2
}
